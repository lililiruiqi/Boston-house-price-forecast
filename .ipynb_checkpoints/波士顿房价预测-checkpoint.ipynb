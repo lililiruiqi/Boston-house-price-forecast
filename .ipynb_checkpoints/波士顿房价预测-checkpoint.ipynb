{
 "cells": [
  {
   "cell_type": "code",
   "execution_count": null,
   "metadata": {},
   "outputs": [],
   "source": [
    "# 1.获取数据 load_boston\n",
    "\n",
    "# 2.数据基本处理 划分数据集和测试集\n",
    "\n",
    "# 3.特征工程 标准化\n",
    "\n",
    "# 4.机器学习 线性回归（正规方程优化的，梯度下降优化的）\n",
    "\n",
    "# 5.模型评估 MSE（均方误差，越小越好）"
   ]
  }
 ],
 "metadata": {
  "kernelspec": {
   "display_name": "Python 3",
   "language": "python",
   "name": "python3"
  },
  "language_info": {
   "codemirror_mode": {
    "name": "ipython",
    "version": 3
   },
   "file_extension": ".py",
   "mimetype": "text/x-python",
   "name": "python",
   "nbconvert_exporter": "python",
   "pygments_lexer": "ipython3",
   "version": "3.7.0"
  }
 },
 "nbformat": 4,
 "nbformat_minor": 2
}
